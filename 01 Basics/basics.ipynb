{
 "cells": [
  {
   "cell_type": "markdown",
   "metadata": {},
   "source": [
    "## RAG from Scratch "
   ]
  },
  {
   "cell_type": "code",
   "execution_count": 55,
   "metadata": {},
   "outputs": [],
   "source": [
    "import os\n",
    "from dotenv import load_dotenv\n",
    "\n",
    "load_dotenv()\n",
    "\n",
    "OPENAI_API_KEY = os.getenv(\"OPENAI_API_KEY\")\n",
    "# MODEL = \"gpt-3.5-turbo\"\n",
    "MODEL = \"llama3\""
   ]
  },
  {
   "cell_type": "code",
   "execution_count": 56,
   "metadata": {},
   "outputs": [],
   "source": [
    "from langchain_openai.chat_models import ChatOpenAI\n",
    "from langchain.llms import Ollama\n",
    "from langchain_openai.embeddings import OpenAIEmbeddings\n",
    "from langchain_community.embeddings import OllamaEmbeddings"
   ]
  },
  {
   "cell_type": "code",
   "execution_count": 58,
   "metadata": {},
   "outputs": [
    {
     "name": "stdout",
     "output_type": "stream",
     "text": [
      "base_url='http://localhost:11434' model='llama3' embed_instruction='passage: ' query_instruction='query: ' mirostat=None mirostat_eta=None mirostat_tau=None num_ctx=None num_gpu=None num_thread=None repeat_last_n=None repeat_penalty=None temperature=None stop=None tfs_z=None top_k=None top_p=None show_progress=False headers=None model_kwargs=None\n"
     ]
    }
   ],
   "source": [
    "if MODEL.startswith(\"gpt\"):\n",
    "    model = ChatOpenAI(api_key= OPENAI_API_KEY, model=MODEL)\n",
    "    embeddings = OpenAIEmbeddings()\n",
    "else:\n",
    "    model = Ollama(model=MODEL)\n",
    "    embeddings = OllamaEmbeddings(model=MODEL)\n",
    "    print(embeddings)\n",
    "\n",
    "# model.invoke(\"Tell me a Joke\")"
   ]
  },
  {
   "cell_type": "code",
   "execution_count": 26,
   "metadata": {},
   "outputs": [
    {
     "data": {
      "text/plain": [
       "\"Here's one:\\n\\nWhy couldn't the bicycle stand up by itself?\\n\\n(Wait for it...)\\n\\nBecause it was two-tired!\\n\\nHope that made you smile! Do you want to hear another one?\""
      ]
     },
     "execution_count": 26,
     "metadata": {},
     "output_type": "execute_result"
    }
   ],
   "source": [
    "from langchain_core.output_parsers import StrOutputParser\n",
    "\n",
    "parser = StrOutputParser()\n",
    "\n",
    "chain = model | parser \n",
    "chain.invoke(\"Tell me a joke\")"
   ]
  },
  {
   "cell_type": "code",
   "execution_count": 45,
   "metadata": {},
   "outputs": [
    {
     "data": {
      "text/plain": [
       "[Document(page_content=\"ABOUT  US:\\nWe've Been Thriving in 10 Y ears\\nThe Tech Ar ea\\nWe are a pioneer of chatbots in Nepal . Our hist ory dates back t o 2011 when we star ted as an outsour cing company catering t o various clients acr oss US\\nand E urope .\\xa0\\nWith the adv ent of chatbots acr oss the globe, we r ealiz ed the potential and v alue it can pr ovide t o the business and intr oduced chatbot in Nepal in 2018.\\xa0\\nWe are a team of distinguished pr ofessionals with se veral years of experience working for se veral clients acr oss the globe .\\nOur aim is t o intr oduce chatbots acr oss e very business in Nepal and enhance the cust omer experience .\\nOur aim is t o intr oduce chatbots acr oss e very business in Nepal and enhan\\nOur Hist ory\\nWe are a pioneer of chatbots in Nepal . Our history dates back to 2\\noutsour cing company catering t o various clients acr oss US and E urope .\\nOur Mission\\nTo enhance the experience of cust omers thus leading t o overall business gr\\nWho W e Are ?\\nWe are a team of distinguished professionals with several years of expe rien\\nacross the globe.\\n(/)\\n6/27/24, 1:14 PM About Us - Palm Mind\\nhttps://palmmind.com/about-us/ 1/5\", metadata={'source': 'sample.pdf', 'page': 0}),\n",
       " Document(page_content='Provide Highly-Tailored Product Recommendations\\nEvery interaction captured and passed through a data analytics engine provides a basis for e\\x00ective decision making for business .\\xa0\\nCust omer Churn Pr ediction \\uf560\\nFraud Detection\\uf560\\nHR Analytics\\uf560\\nPsychological Scoring\\uf560\\nPreventiv e Maintenance \\uf560\\nSocial Media Monit oring \\uf560\\nPalmmind Chatbot Different From Others\\nMachine Learning\\nWith a cust om and localiz ed machine learning model we ha ve successfully cater ed English and Roman Nepali\\nconv ersations at scale . The model is e volving da y by day .\\n(/)\\uf00d\\n6/27/24, 1:14 PM About Us - Palm Mind\\nhttps://palmmind.com/about-us/ 2/5', metadata={'source': 'sample.pdf', 'page': 1}),\n",
       " Document(page_content='Automated Reminders\\nWith tr ansaction emails , aut omatic email and noti\\x00cations y our cust omers ar e mor e engaged and r ealiz e an\\nenhanced cust omer experience.\\nDashboard\\nYour e very inter action ar e captur ed and passed thr ough an analytics engine t o provide y ou with engr ossing and\\nhighly useful r epor ts and v alues for or ganization thr ough cust om dashboar d.\\n(/)\\uf00d\\n6/27/24, 1:14 PM About Us - Palm Mind\\nhttps://palmmind.com/about-us/ 3/5', metadata={'source': 'sample.pdf', 'page': 2}),\n",
       " Document(page_content='Dynamic CMS\\nYou ar e the owner of y our own r esponse and the inter action the chatbot has with cust omer . Y ou can change e very\\naspect of inter action with the CMS at y our \\x00nger tips .\\nOmnichannel & Multilingual\\nNo matter wher e your cust omers ar e and and how the y inter act with business , our system inter faces with e very\\nchannel eg F acebook, Viber , Whatsapp etc making it a one st op business messaging platform .\\nIntegrations & APIs\\nTher e is a seamless integr ation la yer pr ovided which can be integr ated with any thir d par ty systems helping\\nbusiness aut omate anything with a conv ersation inter face .\\n(/)\\nWe are a pioneer of chatbots in Nepal. Our history dates back to 2011 when we started as an outsourcing\\ncompany catering to various clients across US and Europe.(htt\\nps:/\\n/w\\nww.\\nfac\\nebo\\nok.c\\nom/\\npal\\nmm\\nind.\\nnp)(ma\\nilto:\\ninfo\\n@p\\nalm\\nmin\\nd.c\\nom)\\uf09a\\uf0e0\\uf0e1\\nOur Services\\nChatbot Development\\nRPA Consulting\\nApplication Development\\n(/)\\uf00d\\n6/27/24, 1:14 PM About Us - Palm Mind\\nhttps://palmmind.com/about-us/ 4/5', metadata={'source': 'sample.pdf', 'page': 3}),\n",
       " Document(page_content='Quick Links\\nAbout Us(http://z7l.89d.mywebsitetransfer.com/about-us/)\\nContact(/contact-us/)\\nVacancy(http://z7l.89d.mywebsitetransfer.com/vacancy/)\\nOur Of\\x00ces\\nKathmandu, Nepal\\n18-36 Wellington Street, Woolwich London\\nB-302 Amrapali Princely Estate , Sector-76 Noida\\nGet In Touch\\ninfo@palmmind.com\\n+977-01-5912155\\n+977- 9851201865\\n+91-7303131853\\nCopyright 2023 Palm Mind Computer Consulatncy Pvt. Ltd. All Rights Reserved.\\n(/)\\uf00d\\n6/27/24, 1:14 PM About Us - Palm Mind\\nhttps://palmmind.com/about-us/ 5/5', metadata={'source': 'sample.pdf', 'page': 4})]"
      ]
     },
     "execution_count": 45,
     "metadata": {},
     "output_type": "execute_result"
    }
   ],
   "source": [
    "from langchain_community.document_loaders import PyPDFLoader\n",
    "\n",
    "loader = PyPDFLoader(\"sample.pdf\")\n",
    "pages = loader.load_and_split()\n",
    "pages"
   ]
  },
  {
   "cell_type": "code",
   "execution_count": 44,
   "metadata": {},
   "outputs": [
    {
     "name": "stdout",
     "output_type": "stream",
     "text": [
      " \n",
      "Answer the question based on the context below. If the context is not relevant, just reply \"I don't know\"\n",
      "\n",
      "Context: Here is some context\n",
      "\n",
      "Question: Here is a question\n",
      "\n"
     ]
    }
   ],
   "source": [
    "from langchain.prompts import PromptTemplate\n",
    "\n",
    "template = \"\"\" \n",
    "Answer the question based on the context below. If the context is not relevant, just reply \"I don't know\"\n",
    "\n",
    "Context: {context}\n",
    "\n",
    "Question: {question}\n",
    "\"\"\"\n",
    "\n",
    "prompt = PromptTemplate(template=template)\n",
    "print(prompt.format(context = \"Here is some context\", question = \"Here is a question\"))"
   ]
  },
  {
   "cell_type": "code",
   "execution_count": 46,
   "metadata": {},
   "outputs": [],
   "source": [
    "llm_chain = prompt | model | parser"
   ]
  },
  {
   "cell_type": "code",
   "execution_count": 47,
   "metadata": {},
   "outputs": [
    {
     "data": {
      "text/plain": [
       "{'title': 'PromptInput',\n",
       " 'type': 'object',\n",
       " 'properties': {'context': {'title': 'Context', 'type': 'string'},\n",
       "  'question': {'title': 'Question', 'type': 'string'}}}"
      ]
     },
     "execution_count": 47,
     "metadata": {},
     "output_type": "execute_result"
    }
   ],
   "source": [
    "llm_chain.input_schema.schema()"
   ]
  },
  {
   "cell_type": "code",
   "execution_count": 48,
   "metadata": {},
   "outputs": [
    {
     "data": {
      "text/plain": [
       "'The answer is: Blessed Engineering!'"
      ]
     },
     "execution_count": 48,
     "metadata": {},
     "output_type": "execute_result"
    }
   ],
   "source": [
    "llm_chain.invoke(\n",
    "    {\"context\": \"The name of the company is BLESSED ENGINEERING.\",\n",
    "    \"question\": \"what's the name of company?\"\n",
    "    }\n",
    ")"
   ]
  },
  {
   "cell_type": "markdown",
   "metadata": {},
   "source": [
    "### Store the Document in DocArrayInMemoryStore. But in real applications, we will be storing it vector database."
   ]
  },
  {
   "cell_type": "code",
   "execution_count": 59,
   "metadata": {},
   "outputs": [],
   "source": [
    "from langchain_community.vectorstores import DocArrayInMemorySearch\n",
    "\n",
    "vectorstore = DocArrayInMemorySearch.from_documents(\n",
    "    pages,\n",
    "    embedding=embeddings\n",
    ")"
   ]
  },
  {
   "cell_type": "code",
   "execution_count": 63,
   "metadata": {},
   "outputs": [
    {
     "data": {
      "text/plain": [
       "[Document(page_content='Automated Reminders\\nWith tr ansaction emails , aut omatic email and noti\\x00cations y our cust omers ar e mor e engaged and r ealiz e an\\nenhanced cust omer experience.\\nDashboard\\nYour e very inter action ar e captur ed and passed thr ough an analytics engine t o provide y ou with engr ossing and\\nhighly useful r epor ts and v alues for or ganization thr ough cust om dashboar d.\\n(/)\\uf00d\\n6/27/24, 1:14 PM About Us - Palm Mind\\nhttps://palmmind.com/about-us/ 3/5', metadata={'source': 'sample.pdf', 'page': 2}),\n",
       " Document(page_content=\"ABOUT  US:\\nWe've Been Thriving in 10 Y ears\\nThe Tech Ar ea\\nWe are a pioneer of chatbots in Nepal . Our hist ory dates back t o 2011 when we star ted as an outsour cing company catering t o various clients acr oss US\\nand E urope .\\xa0\\nWith the adv ent of chatbots acr oss the globe, we r ealiz ed the potential and v alue it can pr ovide t o the business and intr oduced chatbot in Nepal in 2018.\\xa0\\nWe are a team of distinguished pr ofessionals with se veral years of experience working for se veral clients acr oss the globe .\\nOur aim is t o intr oduce chatbots acr oss e very business in Nepal and enhance the cust omer experience .\\nOur aim is t o intr oduce chatbots acr oss e very business in Nepal and enhan\\nOur Hist ory\\nWe are a pioneer of chatbots in Nepal . Our history dates back to 2\\noutsour cing company catering t o various clients acr oss US and E urope .\\nOur Mission\\nTo enhance the experience of cust omers thus leading t o overall business gr\\nWho W e Are ?\\nWe are a team of distinguished professionals with several years of expe rien\\nacross the globe.\\n(/)\\n6/27/24, 1:14 PM About Us - Palm Mind\\nhttps://palmmind.com/about-us/ 1/5\", metadata={'source': 'sample.pdf', 'page': 0}),\n",
       " Document(page_content='Provide Highly-Tailored Product Recommendations\\nEvery interaction captured and passed through a data analytics engine provides a basis for e\\x00ective decision making for business .\\xa0\\nCust omer Churn Pr ediction \\uf560\\nFraud Detection\\uf560\\nHR Analytics\\uf560\\nPsychological Scoring\\uf560\\nPreventiv e Maintenance \\uf560\\nSocial Media Monit oring \\uf560\\nPalmmind Chatbot Different From Others\\nMachine Learning\\nWith a cust om and localiz ed machine learning model we ha ve successfully cater ed English and Roman Nepali\\nconv ersations at scale . The model is e volving da y by day .\\n(/)\\uf00d\\n6/27/24, 1:14 PM About Us - Palm Mind\\nhttps://palmmind.com/about-us/ 2/5', metadata={'source': 'sample.pdf', 'page': 1}),\n",
       " Document(page_content='Dynamic CMS\\nYou ar e the owner of y our own r esponse and the inter action the chatbot has with cust omer . Y ou can change e very\\naspect of inter action with the CMS at y our \\x00nger tips .\\nOmnichannel & Multilingual\\nNo matter wher e your cust omers ar e and and how the y inter act with business , our system inter faces with e very\\nchannel eg F acebook, Viber , Whatsapp etc making it a one st op business messaging platform .\\nIntegrations & APIs\\nTher e is a seamless integr ation la yer pr ovided which can be integr ated with any thir d par ty systems helping\\nbusiness aut omate anything with a conv ersation inter face .\\n(/)\\nWe are a pioneer of chatbots in Nepal. Our history dates back to 2011 when we started as an outsourcing\\ncompany catering to various clients across US and Europe.(htt\\nps:/\\n/w\\nww.\\nfac\\nebo\\nok.c\\nom/\\npal\\nmm\\nind.\\nnp)(ma\\nilto:\\ninfo\\n@p\\nalm\\nmin\\nd.c\\nom)\\uf09a\\uf0e0\\uf0e1\\nOur Services\\nChatbot Development\\nRPA Consulting\\nApplication Development\\n(/)\\uf00d\\n6/27/24, 1:14 PM About Us - Palm Mind\\nhttps://palmmind.com/about-us/ 4/5', metadata={'source': 'sample.pdf', 'page': 3})]"
      ]
     },
     "execution_count": 63,
     "metadata": {},
     "output_type": "execute_result"
    }
   ],
   "source": [
    "retriever = vectorstore.as_retriever()\n",
    "\n",
    "retriever.invoke(\"experiences\")"
   ]
  },
  {
   "cell_type": "code",
   "execution_count": 67,
   "metadata": {},
   "outputs": [
    {
     "data": {
      "text/plain": [
       "'Our history dates back to 2011 when we started as an outsourcing company catering to various clients across US and Europe, and in 2018, we introduced chatbots in Nepal.'"
      ]
     },
     "execution_count": 67,
     "metadata": {},
     "output_type": "execute_result"
    }
   ],
   "source": [
    "from operator import itemgetter\n",
    "chain = ( \n",
    "    {\n",
    "        \"context\": itemgetter(\"question\") | retriever,\n",
    "        \"question\": itemgetter(\"question\")\n",
    "    }\n",
    "\n",
    "    |prompt | model | parser)\n",
    "\n",
    "chain.invoke({\"question\": \"what is our history\"})"
   ]
  },
  {
   "cell_type": "code",
   "execution_count": 68,
   "metadata": {},
   "outputs": [
    {
     "name": "stdout",
     "output_type": "stream",
     "text": [
      "Question: What is the purpose of this company?\n",
      "Answer: Based on the context, it seems that the main purpose of this company, Palm Mind, is to provide chatbot solutions and services. They mention being a \"pioneer of chatbots in Nepal\" and having a history dating back to 2011 when they started as an outsourcing company catering to various clients across the US and Europe. They also mention introducing chatbots in Nepal in 2018.\n",
      "\n",
      "Additionally, they highlight their capabilities in areas such as:\n",
      "\n",
      "* Machine Learning\n",
      "* Automated Reminders\n",
      "* Customer Churn Prediction\n",
      "* Fraud Detection\n",
      "* HR Analytics\n",
      "* Preventive Maintenance\n",
      "* Social Media Monitoring\n",
      "\n",
      "Overall, it appears that Palm Mind's primary goal is to help businesses enhance their customer experience through the use of chatbots and related technologies.\n",
      "\n",
      "Question: when was this company built?\n",
      "Answer: According to the context, the company was started as an outsourcing company in 2011. Later, they introduced chatbots in Nepal in 2018.\n",
      "\n",
      "Question: what are your products?\n",
      "Answer: Based on the provided context, it seems that Palm Mind offers a range of products and services related to data analytics, machine learning, and chatbots. Some specific products mentioned include:\n",
      "\n",
      "* Highly-tailored product recommendations\n",
      "* Customer churn prediction\n",
      "* Fraud detection\n",
      "* HR analytics\n",
      "* Psychological scoring\n",
      "* Preventive maintenance\n",
      "* Social media monitoring\n",
      "\n",
      "Additionally, they also offer an automated reminders system with transactional emails and notifications to enhance customer engagement.\n",
      "\n",
      "It's worth noting that Palm Mind is a pioneer in chatbots in Nepal, and their main aim seems to be introducing chatbots across every business in Nepal to enhance the customer experience.\n",
      "\n"
     ]
    }
   ],
   "source": [
    "questions = [\n",
    "    \"What is the purpose of this company?\",\n",
    "    \"when was this company built?\",\n",
    "    \"what are your products?\",\n",
    "]\n",
    "\n",
    "for question in questions:\n",
    "    print(f\"Question: {question}\")\n",
    "    print(f\"Answer: {chain.invoke({'question': question})}\")\n",
    "    print()"
   ]
  },
  {
   "cell_type": "code",
   "execution_count": 70,
   "metadata": {},
   "outputs": [
    {
     "data": {
      "text/plain": [
       "['Based on the provided context, it appears that the primary purpose of Palm Mind Computer Consultancy Pvt. Ltd. is to provide chatbot solutions and services to businesses, particularly in Nepal. They have been successful in introducing chatbots across various sectors in Nepal and aim to enhance customer experiences through their technology.',\n",
       " 'According to the context, the company Palm Mind started as an outsourcing company in 2011 and introduced chatbots in Nepal in 2018. However, it\\'s not explicitly stated when the company was \"built\" or incorporated.',\n",
       " 'Based on the context, it appears that Palm Mind offers a range of products and services, including:\\n\\n* Highly-tailored product recommendations\\n* Customer Churn Prediction\\n* Fraud Detection\\n* HR Analytics\\n* Psychological Scoring\\n* Preventive Maintenance\\n* Social Media Monitoring\\n* Chatbot solutions with machine learning capabilities (specifically mentioning English and Roman Nepali conversations)\\n\\nNote that these products and services are likely part of their overall technology offerings, rather than distinct physical products.']"
      ]
     },
     "execution_count": 70,
     "metadata": {},
     "output_type": "execute_result"
    }
   ],
   "source": [
    "chain.batch([{\"question\": q} for q in questions])"
   ]
  }
 ],
 "metadata": {
  "kernelspec": {
   "display_name": "venv",
   "language": "python",
   "name": "python3"
  },
  "language_info": {
   "codemirror_mode": {
    "name": "ipython",
    "version": 3
   },
   "file_extension": ".py",
   "mimetype": "text/x-python",
   "name": "python",
   "nbconvert_exporter": "python",
   "pygments_lexer": "ipython3",
   "version": "3.10.12"
  }
 },
 "nbformat": 4,
 "nbformat_minor": 2
}
