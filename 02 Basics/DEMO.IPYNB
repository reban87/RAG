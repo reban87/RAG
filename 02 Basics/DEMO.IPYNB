{
 "cells": [
  {
   "cell_type": "code",
   "execution_count": null,
   "metadata": {},
   "outputs": [],
   "source": [
    "pip install langchain langchain_community langchain_chroma"
   ]
  },
  {
   "cell_type": "markdown",
   "metadata": {},
   "source": [
    "### LangSmith\n",
    "\n",
    "Many of the applications you build with LangChain will contain multiple steps with multiple invocations of LLM calls. As these applications get more and more complex, it becomes crucial to be able to inspect what exactly is going on inside your chain or agent. The best way to do this is with LangSmith.\n"
   ]
  },
  {
   "cell_type": "code",
   "execution_count": 24,
   "metadata": {},
   "outputs": [],
   "source": [
    "import os\n",
    "from dotenv import load_dotenv\n",
    "\n",
    "load_dotenv()\n",
    "\n",
    "os.environ[\"LANGCHAIN_TRACING_V2\"] = \"true\"\n",
    "LANGCHAIN_API_KEY = os.getenv(\"LANGCHAIN_API_KEY\")\n",
    "MODEL = \"llama3\""
   ]
  },
  {
   "cell_type": "markdown",
   "metadata": {},
   "source": [
    "### Define the model and embedding\n",
    "\n",
    "Let's create a simple indexing pipeline and RAG chain using llama3 in local."
   ]
  },
  {
   "cell_type": "code",
   "execution_count": 27,
   "metadata": {},
   "outputs": [],
   "source": [
    "from langchain.llms import Ollama\n",
    "from langchain_community.embeddings import OllamaEmbeddings"
   ]
  },
  {
   "cell_type": "code",
   "execution_count": 28,
   "metadata": {},
   "outputs": [],
   "source": [
    "model = Ollama(model=MODEL)\n",
    "embeddings = OllamaEmbeddings(model=MODEL)"
   ]
  },
  {
   "cell_type": "code",
   "execution_count": 29,
   "metadata": {},
   "outputs": [
    {
     "data": {
      "text/plain": [
       "'Here\\'s a Nepali joke for you:\\n\\nको चाहिन्छ कि हामी सिधे? (Ko chaahinch kati haami sidhe?)\\n\\nTranslation: \"Who wants to sleep when we can dream?\"\\n\\n(Note: \"सिधे\" means \"to sleep\", and the joke is playing with the idea that it\\'s not just about sleeping, but also about having dreams and aspirations)\\n\\nI hope you enjoyed it!'"
      ]
     },
     "execution_count": 29,
     "metadata": {},
     "output_type": "execute_result"
    }
   ],
   "source": [
    "# Test whether the model is working or not\n",
    "model.invoke(\"tell me a joke in nepali\")"
   ]
  },
  {
   "cell_type": "markdown",
   "metadata": {},
   "source": [
    "### Import necessary libraries"
   ]
  },
  {
   "cell_type": "code",
   "execution_count": 32,
   "metadata": {},
   "outputs": [],
   "source": [
    "#@ Importing libraries\n",
    "from langchain_chroma import Chroma\n",
    "from langchain_core.output_parsers import StrOutputParser\n",
    "from langchain_community.document_loaders import PyPDFLoader\n",
    "from langchain_core.runnables import RunnablePassthrough\n",
    "from langchain_text_splitters import RecursiveCharacterTextSplitter"
   ]
  },
  {
   "cell_type": "markdown",
   "metadata": {},
   "source": [
    "### STEP 1: Load the document"
   ]
  },
  {
   "cell_type": "code",
   "execution_count": 42,
   "metadata": {},
   "outputs": [
    {
     "data": {
      "text/plain": [
       "[Document(page_content='AI ML DS Data Science Data Analysis Data Visualization Machine Learning Deep Learning NLP Compute\\nNatural Language Processing (NLP) –\\nOverview\\nLast Updated : 26 May, 2024\\nThe meaning of NLP is Natural Language Processing (NLP) which is a\\nfascinating and rapidly evolving field that intersects computer science, artificial\\nintelligence, and linguistics. NLP focuses on the interaction between computers\\nand human language, enabling machines to understand, interpret, and\\ngenerate human language in a way that is both meaningful and useful. With\\nthe increasing volume of text data generated every day, from social media\\nposts to research articles, NLP has become an essential tool for extracting\\nvaluable insights and automating various tasks.\\nNatural Language Processing\\nIn this article, we will explore the fundamental concepts and techniques of\\nNatural Language Processing, shedding light on how it transforms raw text\\ninto actionable information. From tokenization and parsing to sentiment\\nanalysis and machine translation, NLP encompasses a wide range of\\napplications that are reshaping industries and enhancing human-computer\\ninteractions. Whether you are a seasoned professional or new to the field, thisTutorialsDSAData ScienceWeb TechCourses6/30/24, 7:53 PM Natural Language Processing (NLP) - Overview - GeeksforGeeks\\nhttps://www.geeksforgeeks.org/natural-language-processing-overview/ 1/15', metadata={'source': 'demo.pdf', 'page': 0}),\n",
       " Document(page_content='overview will provide you with a comprehensive understanding of NLP and its\\nsignificance in today’s digital age.\\nTable of Content\\nWhat is Natural Language Processing?\\nNLP Techniques\\nWorking of Natural Language Processing (NLP)\\xa0\\nTechnologies related to Natural Language Processing\\nApplications of Natural Language Processing (NLP):\\nFuture Scope\\nFuture Enhancements\\nWhat is Natural Language Processing?\\nNatural language processing (NLP) is a field of computer science and a subfield\\nof artificial intelligence that aims to make computers understand human\\nlanguage. NLP uses computational linguistics, which is the study of how\\nlanguage works, and various models based on statistics, machine learning, and\\ndeep learning. These technologies allow computers to analyze and process\\ntext or voice data, and to grasp their full meaning, including the speaker’s or\\nwriter’s intentions and emotions.\\nNLP powers many applications that use language, such as text translation,\\nvoice recognition, text summarization, and chatbots. You may have used some\\nof these applications yourself, such as voice-operated GPS systems, digital\\nassistants, speech-to-text software, and customer service bots. NLP also helps\\nbusinesses improve their efficiency, productivity, and performance by\\nsimplifying complex tasks that involve language.\\nNLP Techniques\\nNLP encompasses a wide array of techniques that aimed at enabling\\ncomputers to process and understand human language. These tasks can be\\ncategorized into several broad areas, each addressing different aspects of\\nlanguage processing. Here are some of the key NLP techniques:\\n1. Text Processing and Preprocessing In NLP6/30/24, 7:53 PM Natural Language Processing (NLP) - Overview - GeeksforGeeks\\nhttps://www.geeksforgeeks.org/natural-language-processing-overview/ 2/15', metadata={'source': 'demo.pdf', 'page': 1}),\n",
       " Document(page_content='Tokenization: Dividing text into smaller units, such as words or sentences.\\nStemming and Lemmatization: Reducing words to their base or root forms.\\nStopword Removal: Removing common words (like “and”, “the”, “is”) that\\nmay not carry significant meaning.\\nText Normalization: Standardizing text, including case normalization,\\nremoving punctuation, and correcting spelling errors.\\n2. Syntax and Parsing In NLP\\nPart-of-Speech (POS) Tagging: Assigning parts of speech to each word in a\\nsentence (e.g., noun, verb, adjective).\\nDependency Parsing: Analyzing the grammatical structure of a sentence to\\nidentify relationships between words.\\nConstituency Parsing: Breaking down a sentence into its constituent parts\\nor phrases (e.g., noun phrases, verb phrases).\\n3. Semantic Analysis\\nNamed Entity Recognition (NER): Identifying and classifying entities in text,\\nsuch as names of people, organizations, locations, dates, etc.\\nWord Sense Disambiguation (WSD): Determining which meaning of a\\nword is used in a given context.\\nCoreference Resolution: Identifying when different words refer to the same\\nentity in a text (e.g., “he” refers to “John”).\\n4. Information Extraction\\nEntity Extraction: Identifying specific entities and their relationships within\\nthe text.\\nRelation Extraction: Identifying and categorizing the relationships between\\nentities in a text.\\n5. Text Classification in NLP\\nSentiment Analysis: Determining the sentiment or emotional tone\\nexpressed in a text (e.g., positive, negative, neutral).6/30/24, 7:53 PM Natural Language Processing (NLP) - Overview - GeeksforGeeks\\nhttps://www.geeksforgeeks.org/natural-language-processing-overview/ 3/15', metadata={'source': 'demo.pdf', 'page': 2}),\n",
       " Document(page_content='Topic Modeling: Identifying topics or themes within a large collection of\\ndocuments.\\nSpam Detection: Classifying text as spam or not spam.\\n6. Language Generation\\nMachine Translation: Translating text from one language to another.\\nText Summarization: Producing a concise summary of a larger text.\\nText Generation: Automatically generating coherent and contextually\\nrelevant text.\\n7. Speech Processing\\nSpeech Recognition: Converting spoken language into text.\\nText-to-Speech (TTS) Synthesis: Converting written text into spoken\\nlanguage.\\n8. Question Answering\\nRetrieval-Based QA: Finding and returning the most relevant text passage\\nin response to a query.\\nGenerative QA: Generating an answer based on the information available in\\na text corpus.\\n9. Dialogue Systems\\nChatbots and Virtual Assistants: Enabling systems to engage in\\nconversations with users, providing responses and performing tasks based\\non user input.\\n10. Sentiment and Emotion Analysis in NLP\\nEmotion Detection: Identifying and categorizing emotions expressed in text.\\nOpinion Mining: Analyzing opinions or reviews to understand public\\nsentiment toward products, services, or topics.\\nWorking of Natural Language Processing (NLP)\\xa06/30/24, 7:53 PM Natural Language Processing (NLP) - Overview - GeeksforGeeks\\nhttps://www.geeksforgeeks.org/natural-language-processing-overview/ 4/15', metadata={'source': 'demo.pdf', 'page': 3}),\n",
       " Document(page_content='Working of Natural Language Processing\\nWorking in natural language processing (NLP) typically involves using\\ncomputational techniques to analyze and understand human language. This\\ncan include tasks such as language understanding, language generation, and\\nlanguage interaction.\\n1. Text Input and Data Collection\\nData Collection: Gathering text data from various sources such as websites,\\nbooks, social media, or proprietary databases.\\nData Storage: Storing the collected text data in a structured format, such as\\na database or a collection of documents.\\n2. Text Preprocessing\\nPreprocessing is crucial to clean and prepare the raw text data for analysis.\\nCommon preprocessing steps include:\\nTokenization: Splitting text into smaller units like words or sentences.\\nLowercasing: Converting all text to lowercase to ensure uniformity.\\nStopword Removal: Removing common words that do not contribute\\nsignificant meaning, such as “and,” “the,” “is.”\\nPunctuation Removal: Removing punctuation marks.\\nStemming and Lemmatization: Reducing words to their base or root forms.\\nStemming cuts off suffixes, while lemmatization considers the context and\\nconverts words to their meaningful base form.6/30/24, 7:53 PM Natural Language Processing (NLP) - Overview - GeeksforGeeks\\nhttps://www.geeksforgeeks.org/natural-language-processing-overview/ 5/15', metadata={'source': 'demo.pdf', 'page': 4}),\n",
       " Document(page_content='Text Normalization: Standardizing text format, including correcting spelling\\nerrors, expanding contractions, and handling special characters.\\n3. Text Representation\\nBag of Words (BoW): Representing text as a collection of words, ignoring\\ngrammar and word order but keeping track of word frequency.\\nTerm Frequency-Inverse Document Frequency (TF-IDF): A statistic that\\nreflects the importance of a word in a document relative to a collection of\\ndocuments.\\nWord Embeddings: Using dense vector representations of words where\\nsemantically similar words are closer together in the vector space (e.g.,\\nWord2Vec, GloVe).\\n4. Feature Extraction\\nExtracting meaningful features from the text data that can be used for various\\nNLP tasks.\\nN-grams: Capturing sequences of N words to preserve some context and\\nword order.\\nSyntactic Features: Using parts of speech tags, syntactic dependencies, and\\nparse trees.\\nSemantic Features: Leveraging word embeddings and other representations\\nto capture word meaning and context.\\n5. Model Selection and Training\\nSelecting and training a machine learning or deep learning model to perform\\nspecific NLP tasks.\\nSupervised Learning: Using labeled data to train models like Support\\nVector Machines (SVM), Random Forests, or deep learning models like\\nConvolutional Neural Networks (CNNs) and Recurrent Neural Networks\\n(RNNs).\\nUnsupervised Learning: Applying techniques like clustering or topic\\nmodeling (e.g., Latent Dirichlet Allocation) on unlabeled data.6/30/24, 7:53 PM Natural Language Processing (NLP) - Overview - GeeksforGeeks\\nhttps://www.geeksforgeeks.org/natural-language-processing-overview/ 6/15', metadata={'source': 'demo.pdf', 'page': 5}),\n",
       " Document(page_content='Pre-trained Models: Utilizing pre-trained language models such as BERT,\\nGPT, or transformer-based models that have been trained on large corpora.\\n6. Model Deployment and Inference\\nDeploying the trained model and using it to make predictions or extract\\ninsights from new text data.\\nText Classification: Categorizing text into predefined classes (e.g., spam\\ndetection, sentiment analysis).\\nNamed Entity Recognition (NER): Identifying and classifying entities in the\\ntext.\\nMachine Translation: Translating text from one language to another.\\nQuestion Answering: Providing answers to questions based on the context\\nprovided by text data.\\n7. Evaluation and Optimization\\nEvaluating the performance of the NLP algorithm using metrics such as\\naccuracy, precision, recall, F1-score, and others.\\nHyperparameter Tuning: Adjusting model parameters to improve\\nperformance.\\nError Analysis: Analyzing errors to understand model weaknesses and\\nimprove robustness.\\n8. Iteration and Improvement\\nContinuously improving the algorithm by incorporating new data, refining\\npreprocessing techniques, experimenting with different models, and optimizing\\nfeatures.\\nTechnologies related to Natural Language Processing\\nThere are a variety of technologies related to natural language processing\\n(NLP) that are used to analyze and understand human language. Some of the\\nmost common include:6/30/24, 7:53 PM Natural Language Processing (NLP) - Overview - GeeksforGeeks\\nhttps://www.geeksforgeeks.org/natural-language-processing-overview/ 7/15', metadata={'source': 'demo.pdf', 'page': 6}),\n",
       " Document(page_content='1. Machine learning: NLP relies heavily on machine learning techniques such\\nas supervised and unsupervised learning, deep learning, and reinforcement\\nlearning to train models to understand and generate human language.\\n2. Natural Language Toolkits (NLTK) and other libraries: NLTK is a popular\\nopen-source library in Python that provides tools for NLP tasks such as\\ntokenization, stemming, and part-of-speech tagging. Other popular libraries\\ninclude spaCy, OpenNLP, and CoreNLP.\\n3. Parsers: Parsers are used to analyze the syntactic structure of sentences,\\nsuch as dependency parsing and constituency parsing.\\n4. Text-to-Speech (TTS) and Speech-to-Text (STT) systems: TTS systems\\nconvert written text into spoken words, while STT systems convert spoken\\nwords into written text.\\n5. Named Entity Recognition (NER) systems: NER systems identify and\\nextract named entities such as people, places, and organizations from the\\ntext.\\n6. Sentiment Analysis: A technique to understand the emotions or opinions\\nexpressed in a piece of text, by using various techniques like Lexicon-Based,\\nMachine Learning-Based, and Deep Learning-based methods\\n7. Machine Translation: NLP is used for language translation from one\\nlanguage to another through a computer.\\n8. Chatbots: NLP is used for chatbots that communicate with other chatbots or\\nhumans through auditory or textual methods.\\n9. AI Software: NLP is used in question-answering software for knowledge\\nrepresentation, analytical reasoning as well as information retrieval.\\nApplications of Natural Language Processing (NLP):\\nSpam Filters: One of the most irritating things about email is spam. Gmail\\nuses natural language processing (NLP) to discern which emails are\\nlegitimate and which are spam. These spam filters look at the text in all the\\nemails you receive and try to figure out what it means to see if it’s spam or\\nnot.\\nAlgorithmic Trading: Algorithmic trading is used for predicting stock market\\nconditions. Using NLP, this technology examines news headlines about\\ncompanies and stocks and attempts to comprehend their meaning in order\\nto determine if you should buy, sell, or hold certain stocks.6/30/24, 7:53 PM Natural Language Processing (NLP) - Overview - GeeksforGeeks\\nhttps://www.geeksforgeeks.org/natural-language-processing-overview/ 8/15', metadata={'source': 'demo.pdf', 'page': 7}),\n",
       " Document(page_content='Questions Answering: NLP can be seen in action by using Google Search or\\nSiri Services. A major use of NLP is to make search engines understand the\\nmeaning of what we are asking and generate natural language in return to\\ngive us the answers.\\nSummarizing Information: On the internet, there is a lot of information, and\\na lot of it comes in the form of long documents or articles. NLP is used to\\ndecipher the meaning of the data and then provides shorter summaries of\\nthe data so that humans can comprehend it more quickly.\\nFuture Scope:\\nBots: Chatbots assist clients to get to the point quickly by answering\\ninquiries and referring them to relevant resources and products at any time\\nof day or night. To be effective, chatbots must be fast, smart, and easy to\\nuse, To accomplish this, chatbots employ NLP to understand language,\\nusually over text or voice-recognition interactions\\nSupporting Invisible UI: Almost every connection we have with machines\\ninvolves human communication, both spoken and written. Amazon’s Echo is\\nonly one illustration of the trend toward putting humans in closer contact\\nwith technology in the future. The concept of an invisible or zero user\\ninterface will rely on direct communication between the user and the\\nmachine, whether by voice, text, or a combination of the two. NLP helps to\\nmake this concept a real-world thing.\\nSmarter Search: NLP’s future also includes improved search, something\\nwe’ve been discussing at Expert System for a long time. Smarter search\\nallows a chatbot to understand a customer’s request can enable “search like\\nyou talk” functionality (much like you could query Siri) rather than focusing\\non keywords or topics. Google recently announced that NLP capabilities\\nhave been added to Google Drive, allowing users to search for documents\\nand content using natural language.\\nFuture Enhancements:\\xa0\\nCompanies like Google are experimenting with Deep Neural Networks\\n(DNNs) to push the limits of NLP and make it possible for human-to-\\nmachine interactions to feel just like human-to-human interactions.6/30/24, 7:53 PM Natural Language Processing (NLP) - Overview - GeeksforGeeks\\nhttps://www.geeksforgeeks.org/natural-language-processing-overview/ 9/15', metadata={'source': 'demo.pdf', 'page': 8}),\n",
       " Document(page_content='Basic words can be further subdivided into proper semantics and used in\\nNLP algorithms.\\nThe NLP algorithms can be used in various languages that are currently\\nunavailable such as regional languages or languages spoken in rural areas\\netc.\\nTranslation of a sentence in one language to the same sentence in another\\nLanguage at a broader scope.\\nConclusion\\nIn conclusion, the field of Natural Language Processing (NLP) has significantly\\ntransformed the way humans interact with machines, enabling more intuitive\\nand efficient communication. NLP encompasses a wide range of techniques and\\nmethodologies to understand, interpret, and generate human language. From\\nbasic tasks like tokenization and part-of-speech tagging to advanced\\napplications like sentiment analysis and machine translation, the impact of NLP\\nis evident across various domains. As the technology continues to evolve,\\ndriven by advancements in machine learning and artificial intelligence, the\\npotential for NLP to enhance human-computer interaction and solve complex\\nlanguage-related challenges remains immense. Understanding the core\\nconcepts and applications of Natural Language Processing is crucial for anyone\\nlooking to leverage its capabilities in the modern digital landscape.\\nNatural Language Processing – FAQs\\nWhat are NLP models?\\nNLP models are computational systems that can process natural\\nlanguage data, such as text or speech, and perform various tasks, such as\\ntranslation, summarization, sentiment analysis, etc. NLP models are\\nusually based on machine learning or deep learning techniques that learn\\nfrom large amounts of language data.\\nWhat are the types of NLP models?6/30/24, 7:53 PM Natural Language Processing (NLP) - Overview - GeeksforGeeks\\nhttps://www.geeksforgeeks.org/natural-language-processing-overview/ 10/15', metadata={'source': 'demo.pdf', 'page': 9}),\n",
       " Document(page_content='NLP models can be classified into two main types: rule-based and\\nstatistical. Rule-based models use predefined rules and dictionaries to\\nanalyze and generate natural language data. Statistical models use\\nprobabilistic methods and data-driven approaches to learn from\\nlanguage data and make predictions.\\nWhat are the challenges of NLP models?\\nNLP models face many challenges due to the complexity and diversity of\\nnatural language. Some of these challenges include ambiguity, variability,\\ncontext-dependence, figurative language, domain-specificity, noise, and\\nlack of labeled data.\\nWhat are the applications of NLP models?\\nNLP models have many applications in various domains and industries,\\nsuch as search engines, chatbots, voice assistants, social media analysis,\\ntext mining, information extraction, natural language generation, machine\\ntranslation, speech recognition, text summarization, question answering,\\nsentiment analysis, and more.\\nSummer-time is here and so is the time to skill-up! More than 5,000 learners\\nhave now completed their journey from basics of DSA to advanced level\\ndevelopment programs such as Full-Stack, Backend Development, Data\\nScience.\\xa0\\nAnd why go anywhere else when our DSA to Development: Coding Guide will\\nhelp you master all this in a few months! Apply now to our DSA to6/30/24, 7:53 PM Natural Language Processing (NLP) - Overview - GeeksforGeeks\\nhttps://www.geeksforgeeks.org/natural-language-processing-overview/ 11/15', metadata={'source': 'demo.pdf', 'page': 10}),\n",
       " Document(page_content='Similar Reads\\nNatural Language Pr ocessing(NLP) VS Programming Language\\nIn the world of computers, there are mainly two kinds of languages: Natural\\nLanguage Processing (NLP) and Programming Languages. NLP is all about…\\n4 min read\\nTop 5 Industries Impacted B y Natural Language Processing (NLP) Trends\\nNatural Language Processing (NLP) has been done by the human brain for ages\\nand is now being done by computers since the 1950s. If you think about it, the…\\n5 min read\\nNatural Language Pr ocessing (NLP) Pipeline\\nNatural Language Processing is referred to as NLP. It is a subset of arti\\x00cial\\nintelligence that enables machines to comprehend and analyze human language…\\n15+ min read\\nTop 5 PreTrained M odels in Natural Language Processing (NLP)\\nPretrained models are deep learning models that have been trained on huge\\namounts of data before \\x00ne-tuning for a speci\\x00c task. The pre-trained models…\\n7 min read\\nNatural Language Pr ocessing (NLP) Job Roles\\nIn recent years, the discipline of Natural Language Processing(NLP) has\\nexperienced great growth and development and has already impacted the worl…\\n10 min readDevelopment Program and our counsellors will connect with you for further\\nguidance & support.\\nmeet…\\nNext Article\\nNatural Language Processing (NLP)\\nPipelineM 266/30/24, 7:53 PM Natural Language Processing (NLP) - Overview - GeeksforGeeks\\nhttps://www.geeksforgeeks.org/natural-language-processing-overview/ 12/15', metadata={'source': 'demo.pdf', 'page': 11}),\n",
       " Document(page_content='A-143, 9th Floor, Sovereign Corporate\\nTower, Sector-136, Noida, Uttar Pradesh -\\n201305\\nCompany\\nAbout Us\\nLegal\\nIn Media\\nContact Us\\nAdvertise with us\\nGFG Corporate Solution\\nPlacement Training ProgramExplore\\nHack-A-Thons\\nGfG Weekly Contest\\nDSA in JAVA/C++\\nMaster System Design\\nMaster CP\\nGeeksforGeeks Videos\\nGeeks Community\\nPython\\nJava\\nC++Data Structures\\nAlgorithms\\nDSA for BeginnersLanguages DSAView More Articles\\nArticle T ags : Natural-language-processing AI-ML-DS6/30/24, 7:53 PM Natural Language Processing (NLP) - Overview - GeeksforGeeks\\nhttps://www.geeksforgeeks.org/natural-language-processing-overview/ 13/15', metadata={'source': 'demo.pdf', 'page': 12}),\n",
       " Document(page_content='PHP\\nGoLang\\nSQL\\nR Language\\nAndroid Tutorial\\nTutorials ArchiveBasic DSA Problems\\nDSA Roadmap\\nTop 100 DSA Interview Problems\\nDSA Roadmap by Sandeep Jain\\nAll Cheat Sheets\\nData Science & ML\\nData Science With Python\\nData Science For Beginner\\nMachine Learning Tutorial\\nML Maths\\nData Visualisation Tutorial\\nPandas Tutorial\\nNumPy Tutorial\\nNLP Tutorial\\nDeep Learning TutorialHTML\\nCSS\\nWeb Templates\\nCSS Frameworks\\nBootstrap\\nTailwind CSS\\nSASS\\nLESS\\nWeb Design\\nPython Programming Examples\\nPython Projects\\nPython Tkinter\\nWeb Scraping\\nOpenCV Tutorial\\nPython Interview Question\\nDjangoOperating Systems\\nComputer Network\\nDatabase Management System\\nSo\\x00ware Engineering\\nDigital Logic Design\\nEngineering Maths\\nGit\\nAWS\\nDocker\\nKubernetes\\nAzure\\nGCP\\nDevOps RoadmapTop DS or Algo for CP\\nTop 50 Tree\\nTop 50 Graph\\nTop 50 Array\\nTop 50 String\\nTop 50 DP\\nTop 15 Websites for CP\\nHigh Level Design\\nLow Level Design\\nUML Diagrams\\nInterview Guide\\nDesign Patterns\\nOOAD\\nSystem Design Bootcamp\\nInterview QuestionsJavaScript Examples\\nTypeScript\\nReactJS\\nNextJS\\nAngularJS\\nNodeJS\\nLodash\\nWeb Browser\\nCompany-Wise Recruitment Process\\nResume TemplatesSchool Subjects\\nMathematics\\nPhysicsHTML & CSS\\nPython Tutorial Computer Science\\nDevOps Competitive Programming\\nSystem Des ign JavaScript\\nPreparation Corner6/30/24, 7:53 PM Natural Language Processing (NLP) - Overview - GeeksforGeeks\\nhttps://www.geeksforgeeks.org/natural-language-processing-overview/ 14/15', metadata={'source': 'demo.pdf', 'page': 13}),\n",
       " Document(page_content='Aptitude Preparation\\nPuzzles\\nCompany-Wise PreparationChemistry\\nBiology\\nSocial Science\\nEnglish Grammar\\nWorld GK\\nManagement & Finance\\nManagement\\nHR Management\\nFinance\\nOrganisational Behaviour\\nMarketingFree Online Tools\\nTyping Test\\nImage Editor\\nCode Formatters\\nCode Converters\\nCurrency Converter\\nRandom Number Generator\\nRandom Password Generator\\nMore Tutorials\\nSo\\x00ware Development\\nSo\\x00ware Testing\\nProduct Management\\nSEO - Search Engine Optimization\\nLinux\\nExcel\\nAll CheatsheetsDSA\\nPython\\nJava\\nC++\\nWeb Development\\nData Science\\nCS Subjects\\n@GeeksforGeeks, Sanchhaya Education Private Limited, All rights reservedGeeksforGeeks Videos6/30/24, 7:53 PM Natural Language Processing (NLP) - Overview - GeeksforGeeks\\nhttps://www.geeksforgeeks.org/natural-language-processing-overview/ 15/15', metadata={'source': 'demo.pdf', 'page': 14})]"
      ]
     },
     "execution_count": 42,
     "metadata": {},
     "output_type": "execute_result"
    }
   ],
   "source": [
    "#@ STEP 1: Load the Document\n",
    "parser = StrOutputParser()\n",
    "loader = PyPDFLoader(\"demo.pdf\")\n",
    "\n",
    "# It does the same thing as loader.load\n",
    "# pages = loader.load_and_split()\n",
    "# pages\n",
    "docs = loader.load()\n",
    "docs\n"
   ]
  },
  {
   "cell_type": "markdown",
   "metadata": {},
   "source": [
    "### STEP 2: Split the texts"
   ]
  },
  {
   "cell_type": "code",
   "execution_count": 58,
   "metadata": {},
   "outputs": [],
   "source": [
    "#@ STEP 2: Split texts\n",
    "\n",
    "text_splitter = RecursiveCharacterTextSplitter(chunk_size = 1000, chunk_overlap = 200)\n",
    "splits = text_splitter.split_documents(docs)\n",
    "# print(splits)\n",
    "vector_store = Chroma.from_documents(splits, embedding=embeddings)"
   ]
  },
  {
   "cell_type": "markdown",
   "metadata": {},
   "source": [
    "### STEP 3: Retrieve and generate the relevant snippets from the document"
   ]
  },
  {
   "cell_type": "code",
   "execution_count": 49,
   "metadata": {},
   "outputs": [],
   "source": [
    "#@ STEP 3: Retrieve and generate using the relevant snippents from the pdf. \n",
    "\n",
    "#@ Lets create a prompt for the model\n",
    "from multiprocessing import context\n",
    "from langchain import PromptTemplate\n",
    "\n",
    "template = \"\"\" \n",
    "Answer the question based on the context below. If the context is not relevant, just reply \"I don't know\"\n",
    "\n",
    "context: {context}\n",
    "\n",
    "question: {question}\n",
    "\"\"\"\n",
    "\n",
    "prompt = PromptTemplate(template=template)\n",
    "# print(prompt.format(context=\"Here is the context\", question=\"Here is the question\"))\n",
    "\n",
    "retriever = vector_store.as_retriever()\n",
    "\n",
    "def format_docs(docs):\n",
    "    return \"\\n\\n\".join(doc.page_content for doc in docs)\n",
    "\n",
    "\n",
    "rag_chain = (\n",
    "    {\n",
    "        \"context\": retriever | format_docs, \"question\": RunnablePassthrough()}\n",
    "\n",
    "    | prompt | model | parser\n",
    "    \n",
    ")"
   ]
  },
  {
   "cell_type": "code",
   "execution_count": 50,
   "metadata": {},
   "outputs": [
    {
     "data": {
      "text/plain": [
       "'The meaning of NLP is \"Natural Language Processing\", which is a fascinating and rapidly evolving field that intersects computer science, artificial intelligence, and linguistics.'"
      ]
     },
     "execution_count": 50,
     "metadata": {},
     "output_type": "execute_result"
    }
   ],
   "source": [
    "rag_chain.invoke(\"What is the meaning of NLP\")"
   ]
  },
  {
   "cell_type": "code",
   "execution_count": 55,
   "metadata": {},
   "outputs": [
    {
     "name": "stdout",
     "output_type": "stream",
     "text": [
      "Question: What is the meaning of NLP?\n",
      "Answer: Natural Language Processing (NLP) is the ability of a computer program to understand, interpret, and generate human language, with the goal of enabling computers to process and understand natural language data in much the same way that humans do.\n",
      "\n",
      "Question: What are the key NLP techniques?\n",
      "Answer: The key NLP techniques include:\n",
      "\n",
      "1. Text Processing and Preprocessing\n",
      "2. Word Sense Disambiguation (WSD)\n",
      "3. Coreference Resolution\n",
      "4. Information Extraction\n",
      "5. Entity Extraction\n",
      "6. Relation Extraction\n",
      "7. Text Classification\n",
      "8. Sentiment Analysis\n",
      "9. Topic Modeling\n",
      "10. Spam Detection\n",
      "\n",
      "These techniques are categorized into several broad areas, each addressing different aspects of language processing, such as understanding natural language, identifying entities and relationships, classifying text, generating text, and more.\n",
      "\n",
      "Question: what do you understand by speech processing?\n",
      "Answer: Based on the context, I would answer that \"Speech Processing\" is not explicitly mentioned as a technique or application of NLP. However, it can be inferred that Speech Processing might refer to one of the applications of NLP mentioned earlier, such as voice recognition, speech-to-text software, or chatbots. Therefore, my answer would be:\n",
      "\n",
      "\"Speech processing refers to various applications that use language, such as voice-operated GPS systems, digital assistants, and customer service bots.\"\n",
      "\n"
     ]
    }
   ],
   "source": [
    "#@ Let's create a list of questions\n",
    "questions = [\n",
    "    \n",
    "    \"What is the meaning of NLP?\",\n",
    "    \"What are the key NLP techniques?\",\n",
    "    \"what do you understand by speech processing?\",\n",
    "]\n",
    "\n",
    "for question in questions:\n",
    "    print(f\"Question: {question}\")\n",
    "    print(f\"Answer: {rag_chain.invoke({'question': question})}\")\n",
    "    print()"
   ]
  },
  {
   "cell_type": "code",
   "execution_count": 56,
   "metadata": {},
   "outputs": [],
   "source": [
    "#@ If we have to delete the data\n",
    "vector_store.delete_collection()"
   ]
  },
  {
   "cell_type": "markdown",
   "metadata": {},
   "source": []
  }
 ],
 "metadata": {
  "kernelspec": {
   "display_name": "venv",
   "language": "python",
   "name": "python3"
  },
  "language_info": {
   "codemirror_mode": {
    "name": "ipython",
    "version": 3
   },
   "file_extension": ".py",
   "mimetype": "text/x-python",
   "name": "python",
   "nbconvert_exporter": "python",
   "pygments_lexer": "ipython3",
   "version": "3.10.12"
  }
 },
 "nbformat": 4,
 "nbformat_minor": 2
}
